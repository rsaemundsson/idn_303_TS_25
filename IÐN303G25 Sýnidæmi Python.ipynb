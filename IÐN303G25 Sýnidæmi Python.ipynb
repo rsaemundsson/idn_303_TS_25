{
 "cells": [
  {
   "cell_type": "markdown",
   "id": "6376ee33",
   "metadata": {},
   "source": [
    "## Inngangur\n",
    "Markmiðið með þessu skjali er að fjalla um nokkur atriði sem munu koma aftur og aftur upp í forritum hjá \n",
    "okkur í vetur og hvernig hægt er að leysa þau í Python.\n"
   ]
  },
  {
   "cell_type": "markdown",
   "id": "20de2894",
   "metadata": {},
   "source": [
    "## Forritunarsöfn\n",
    "Forritunarsöfn geyma gagnategundir (e. data types) og föll (e. functions) sem við getum gripið til þegar við erum að forrita. Þau sem eru sérstaklega hjálpleg fyrir \n",
    "okkur eru:\n",
    "    \n",
    "    * numpy - stærðfræði\n",
    "    * matplotlib - gröf\n",
    "    * control - stýritækni\n",
    "\n",
    "Hér fyrir neðan eru tekin nokkur dæmi um hvað er að finna í numpy og matplotlib en við skoðum control síðar. Til að hægt sé að nota safnið þarf að  vísað til þess, \n",
    "en það er nóg að gera það í fyrstu \"cellunni\". Stundum þarf að sækja safnið og hlaða því, t.d. control, inn áður en hægt er að vísa\n",
    "til þess og er best að gera það í fyrstu \"cellunni\"."
   ]
  },
  {
   "cell_type": "markdown",
   "id": "57bc4e82",
   "metadata": {},
   "source": [
    "### numpy"
   ]
  },
  {
   "cell_type": "code",
   "execution_count": null,
   "id": "89496dd3",
   "metadata": {},
   "outputs": [],
   "source": [
    "import numpy as np"
   ]
  },
  {
   "cell_type": "markdown",
   "id": "5c7db733",
   "metadata": {},
   "source": [
    "Í numpy er gagnategundin array sem er hægt er að nota til að geyma fylki og vigra og reikna með þeim."
   ]
  },
  {
   "cell_type": "code",
   "execution_count": null,
   "id": "a9b4fdf0",
   "metadata": {},
   "outputs": [],
   "source": [
    "x = np.array([[1],[2],[3]])\n",
    "A = np.array([[1,2,3],[4,5,6],[7,8,9]])\n",
    "y = A@x\n",
    "print(x)\n",
    "print(A)\n",
    "print(y)"
   ]
  },
  {
   "cell_type": "markdown",
   "id": "9b608f97",
   "metadata": {},
   "source": [
    "Það er líka hægt að útbúa array án þess að slá inn hvert einasta stak."
   ]
  },
  {
   "cell_type": "code",
   "execution_count": null,
   "id": "d2d505ab",
   "metadata": {},
   "outputs": [],
   "source": [
    "N=10\n",
    "y = np.zeros(N)\n",
    "z = np.ones(N)\n",
    "t = np.arange(N)\n",
    "print(y)\n",
    "print(z)\n",
    "print(t)"
   ]
  },
  {
   "cell_type": "markdown",
   "id": "42457a28",
   "metadata": {},
   "source": [
    "Ef við viljum útbúa tímavigur sem byrjar í 0 og nær upp 10 s með 0,2 sek á milli punkta þá getum við gert eftirfarandi"
   ]
  },
  {
   "cell_type": "code",
   "execution_count": null,
   "id": "1e22579c",
   "metadata": {},
   "outputs": [],
   "source": [
    "t = np.arange(start=0,stop=10.2,step=0.2)\n",
    "print(t)"
   ]
  },
  {
   "cell_type": "markdown",
   "id": "67065c61",
   "metadata": {},
   "source": [
    "Í numpy eru líka allskonar stærðfræðiföll sem hægt er að nota bæði á venjulegar breytur og array."
   ]
  },
  {
   "cell_type": "code",
   "execution_count": null,
   "id": "dfc76304",
   "metadata": {},
   "outputs": [],
   "source": [
    "b = 2\n",
    "a = [1,2,3]\n",
    "y = np.log(b)\n",
    "z = np.log(a)\n",
    "print(y)\n",
    "print(z)"
   ]
  },
  {
   "cell_type": "markdown",
   "id": "cee63e4e",
   "metadata": {},
   "source": [
    "### matplotlib"
   ]
  },
  {
   "cell_type": "code",
   "execution_count": null,
   "id": "6ff2d0dd",
   "metadata": {},
   "outputs": [],
   "source": [
    "import matplotlib.pyplot as plt"
   ]
  },
  {
   "cell_type": "markdown",
   "id": "c9e9a488",
   "metadata": {},
   "source": [
    "Í matplotlib er hægt að teikna allskonar gröf. Byrjum á að teikna einfalt graf."
   ]
  },
  {
   "cell_type": "code",
   "execution_count": null,
   "id": "fc745617",
   "metadata": {},
   "outputs": [],
   "source": [
    "t = np.arange(start=0,stop=10.2,step=0.2)\n",
    "y = np.sin(t)\n",
    "\n",
    "fig, ax = plt.subplots()\n",
    "ax.plot(t, y)\n",
    "plt.show()"
   ]
  },
  {
   "cell_type": "markdown",
   "id": "3e3b43e7",
   "metadata": {},
   "source": [
    "Bætum við öðru grafi á sama flöt."
   ]
  },
  {
   "cell_type": "code",
   "execution_count": null,
   "id": "5d85859d",
   "metadata": {},
   "outputs": [],
   "source": [
    "t = np.arange(start=0,stop=10.2,step=0.2)\n",
    "y = np.sin(t)\n",
    "z = 0.5 * np.cos(t)\n",
    "\n",
    "fig, ax = plt.subplots()\n",
    "ax.plot(t, y)\n",
    "ax.plot(t, z)\n",
    "plt.show()"
   ]
  },
  {
   "cell_type": "markdown",
   "id": "cd7930ed",
   "metadata": {},
   "source": [
    "Bætum texta einingum við ásana og \"legend\" fyrir gröfin"
   ]
  },
  {
   "cell_type": "code",
   "execution_count": null,
   "id": "1aa57406",
   "metadata": {},
   "outputs": [],
   "source": [
    "t = np.arange(start=0,stop=10.2,step=0.2)\n",
    "y = np.sin(t)\n",
    "z = 0.5 * np.cos(t)\n",
    "\n",
    "fig, ax = plt.subplots()\n",
    "\n",
    "ax.plot(t, y)\n",
    "ax.plot(t, z)\n",
    "\n",
    "ax.set_xlabel('Tími [s]')\n",
    "ax.set_ylabel('Útslag [V]')\n",
    "ax.legend(['Inntak', 'Úttak'])\n",
    "plt.show()"
   ]
  },
  {
   "cell_type": "markdown",
   "id": "c380ebc2",
   "metadata": {},
   "source": [
    "Setjum nú upp tvo y-ása, einn fyrir hvort graf."
   ]
  },
  {
   "cell_type": "code",
   "execution_count": null,
   "id": "2fa2da8d",
   "metadata": {},
   "outputs": [],
   "source": [
    "t = np.arange(start=0,stop=10.2,step=0.2)\n",
    "y = np.sin(t)\n",
    "z = 0.5 * np.cos(t)\n",
    "\n",
    "fig, ax1 = plt.subplots()\n",
    "\n",
    "ax1.plot(t, y)\n",
    "ax2 = ax1.twinx()\n",
    "\n",
    "ax2.plot(t, z,color='red')\n",
    "\n",
    "ax1.set_xlabel('Tími [s]')\n",
    "ax1.set_ylabel('Útslag [V]')\n",
    "ax2.set_ylabel('Útslag [V]')\n",
    "\n",
    "ax1.legend(['Inntak'])\n",
    "ax2.legend(['Úttak'])\n",
    "plt.show()"
   ]
  },
  {
   "cell_type": "markdown",
   "id": "6b8069e9",
   "metadata": {},
   "source": [
    "## Lykkjur og skilyrði"
   ]
  },
  {
   "cell_type": "markdown",
   "id": "8da32851",
   "metadata": {},
   "source": [
    "Líkt og í öðrum forritunarmálum er Python með lykkjur og skilyrði. Við reynum að forðast lykkjur og skilyrði því það hægir á forritinu.\n",
    "Ef við mögulega getum reynum frekar að nota fylkjareikning, en stundum er auðveldara og skýrara að nota lykkjur og skilyrði,\n",
    "a.m.k. til að byrja með.\n",
    "\n",
    "Til dæmis er hægt að reikna úttak útfrá fyrri gildum og inntaki."
   ]
  },
  {
   "cell_type": "code",
   "execution_count": null,
   "id": "47fedcc6",
   "metadata": {},
   "outputs": [],
   "source": [
    "N = 10\n",
    "inntak = np.ones(N)\n",
    "uttak_1 = np.zeros(N)\n",
    "\n",
    "for i in range(1,N):\n",
    "    uttak_1[i] = uttak_1[i - 1] + 0.1 * inntak[i]\n",
    "    \n",
    "print(uttak_1)"
   ]
  },
  {
   "cell_type": "markdown",
   "id": "4b0494f6",
   "metadata": {},
   "source": [
    "Bætum við nokkrum skilyrðum og berum svo myndrænt saman við niðurstöðurnar frá því áður. Stillum mörk ásanna og bætum við grid."
   ]
  },
  {
   "cell_type": "code",
   "execution_count": null,
   "id": "36414376",
   "metadata": {},
   "outputs": [],
   "source": [
    "N = 10\n",
    "inntak = np.ones(N)\n",
    "uttak_2 = np.zeros(N)\n",
    "m = 0.1\n",
    "\n",
    "for i in range(1,N):\n",
    "    if (i == 3):\n",
    "        m = 0.3\n",
    "    elif (i == 5):\n",
    "        m = 0.5\n",
    "    else:\n",
    "        m = 0.1\n",
    "        \n",
    "    uttak_2[i] = uttak_2[i - 1] + m * inntak[i]\n",
    "    \n",
    "print(uttak_2)\n",
    "\n",
    "fig, ax = plt.subplots()\n",
    "ax.plot(uttak_1)\n",
    "ax.plot(uttak_2)\n",
    "ax.legend([\"Úttak 1\", \"Úttak 2\"])\n",
    "\n",
    "plt.grid()\n",
    "plt.xlim([0,10])\n",
    "plt.ylim([0,2])\n",
    "\n",
    "plt.show()"
   ]
  },
  {
   "cell_type": "code",
   "execution_count": null,
   "id": "fc453e1c",
   "metadata": {},
   "outputs": [],
   "source": []
  }
 ],
 "metadata": {
  "kernelspec": {
   "display_name": "Python 3 (ipykernel)",
   "language": "python",
   "name": "python3"
  },
  "language_info": {
   "codemirror_mode": {
    "name": "ipython",
    "version": 3
   },
   "file_extension": ".py",
   "mimetype": "text/x-python",
   "name": "python",
   "nbconvert_exporter": "python",
   "pygments_lexer": "ipython3",
   "version": "3.9.7"
  }
 },
 "nbformat": 4,
 "nbformat_minor": 5
}
