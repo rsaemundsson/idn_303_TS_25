{
  "cells": [
    {
      "cell_type": "markdown",
      "id": "7b33bd85",
      "metadata": {
        "id": "7b33bd85"
      },
      "source": [
        "# IÐN303G Tæknileg kerfi - Sýnidæmi um notkun control forritasafnsins"
      ]
    },
    {
      "cell_type": "markdown",
      "id": "32d34514",
      "metadata": {
        "id": "32d34514"
      },
      "source": [
        "## Inngangur\n",
        "Markmiðið með þessu sýnidæmi er að sýna hvernig hægt er að nota control forritasafnið (e. library) til að skilgreina yfirfærsluföll og vinna með þau, þ.m.t. skoða tíma- og tíðnisvörun þeirra."
      ]
    },
    {
      "cell_type": "code",
      "execution_count": null,
      "id": "449844ff",
      "metadata": {
        "id": "449844ff"
      },
      "outputs": [],
      "source": [
        "!pip install control"
      ]
    },
    {
      "cell_type": "code",
      "execution_count": null,
      "id": "052f2843",
      "metadata": {
        "id": "052f2843"
      },
      "outputs": [],
      "source": [
        "import numpy as np\n",
        "import matplotlib.pyplot as plt\n",
        "import control as ct"
      ]
    },
    {
      "cell_type": "markdown",
      "id": "da96e02d",
      "metadata": {
        "id": "da96e02d"
      },
      "source": [
        "Í control forritasafninu eru föll þar sem hægt er að nota til að skilgreina yfirfærsluföll.\n",
        "\n",
        "Til dæmis eru yfirfærsluföllin\n",
        "\n",
        "\\begin{equation}\n",
        "G_1(s)=\\frac{3}{4s^2+s+1}\n",
        "\\end{equation}\n",
        "\n",
        "og\n",
        "\n",
        "\\begin{equation}\n",
        "G_2(s)=\\frac{4.3}{1.6s+1}\n",
        "\\end{equation}\n",
        "\n",
        "skilgreind á eftirfarandi hátt með fallinu tf. Athugið að stuðlar í teljara og nefnara eru gefnir sem vigrar þar sem talan lengst til hægri er stuðullinn fyrir $s^0$ og stuðullinn vinstra meginn við hann er fyrir $s^1$ og svo í hærra veldi af $s$ eftir því sem farið er lengra til vinstri."
      ]
    },
    {
      "cell_type": "code",
      "execution_count": null,
      "id": "c9fa861c",
      "metadata": {
        "id": "c9fa861c"
      },
      "outputs": [],
      "source": [
        "G1=ct.tf([3.],[4.,1.,1.])\n",
        "G2=ct.tf([4.3],[1.6,1.])\n",
        "print(G1)\n",
        "print(G2)"
      ]
    },
    {
      "cell_type": "markdown",
      "id": "97c43852",
      "metadata": {
        "id": "97c43852"
      },
      "source": [
        "Hægt er að tengja saman yfirfærsluföll, hvort heldur sem þau eru raðtengd, hliðtengd eða tengd með afturvirkni.\n",
        "\n",
        "Ef föllin eru raðtengd þá eru þau margfölduð saman og ef þau eru hliðtengd má eru þau lögð saman. Það má líka nota\n",
        "skipanirnar $series$ eða $parallel$. Ef föllin eru tengd saman með afturvirkni er notuð skipunin $feedback$."
      ]
    },
    {
      "cell_type": "code",
      "execution_count": null,
      "id": "66b7e9ca",
      "metadata": {
        "id": "66b7e9ca"
      },
      "outputs": [],
      "source": [
        "print(G1*G2)\n",
        "print(ct.series(G1,G2))"
      ]
    },
    {
      "cell_type": "code",
      "execution_count": null,
      "id": "81bafd75",
      "metadata": {
        "id": "81bafd75"
      },
      "outputs": [],
      "source": [
        "print(G1+G2)\n",
        "print(ct.parallel(G1,G2))"
      ]
    },
    {
      "cell_type": "code",
      "execution_count": null,
      "id": "5f8be445",
      "metadata": {
        "scrolled": true,
        "id": "5f8be445"
      },
      "outputs": [],
      "source": [
        "print(ct.feedback(G1,G2))"
      ]
    },
    {
      "cell_type": "markdown",
      "id": "193aaf9b",
      "metadata": {
        "id": "193aaf9b"
      },
      "source": [
        "Á einfaldan hátt má skoða tímasvörun yfirfærslufalls, þ.e. svörun við einingaþrepafalli."
      ]
    },
    {
      "cell_type": "code",
      "execution_count": null,
      "id": "59916a66",
      "metadata": {
        "id": "59916a66"
      },
      "outputs": [],
      "source": [
        "t,y = ct.step_response(G1)\n",
        "plt.plot(t,y)\n",
        "plt.grid()\n",
        "plt.xlabel('sek')\n",
        "plt.ylabel('útslag')"
      ]
    },
    {
      "cell_type": "markdown",
      "id": "d7bee5ee",
      "metadata": {
        "id": "d7bee5ee"
      },
      "source": [
        "Einnig má finna tíðnisvörun yfirfærslufalls og birta í svokölluðum Bode ritum sem sýna útslag og fasa sem fall af\n",
        "horntíðni (rad/sek). Venjan er að hafa útslag og horntíðni á logaritmiskum kvarða."
      ]
    },
    {
      "cell_type": "code",
      "execution_count": null,
      "id": "b80e9385",
      "metadata": {
        "scrolled": true,
        "id": "b80e9385"
      },
      "outputs": [],
      "source": [
        "ct.bode(G1, dB=True)"
      ]
    },
    {
      "cell_type": "markdown",
      "id": "cb37a3ca",
      "metadata": {
        "id": "cb37a3ca"
      },
      "source": [
        "Það er líka hægt að hafa fasann í einingunni rad."
      ]
    },
    {
      "cell_type": "code",
      "execution_count": null,
      "id": "860654d6",
      "metadata": {
        "id": "860654d6"
      },
      "outputs": [],
      "source": [
        "ct.bode(G1, dB = True, deg=False)"
      ]
    },
    {
      "cell_type": "markdown",
      "id": "7deb5507",
      "metadata": {
        "id": "7deb5507"
      },
      "source": [
        "Það má líka teikna niðurstöðuna sem bode fallið skilar á línulegum kvarða."
      ]
    },
    {
      "cell_type": "code",
      "execution_count": null,
      "id": "01bb40c5",
      "metadata": {
        "id": "01bb40c5"
      },
      "outputs": [],
      "source": [
        "mag, phase, omega = ct.frequency_response(G1)\n",
        "fig, axs = plt.subplots(2, 1)\n",
        "axs[0].plot(omega[:600],mag[:600])\n",
        "axs[0].set_ylim(0, 7)\n",
        "axs[0].set_xlabel('rad/sek')\n",
        "axs[0].set_ylabel('mögnun')\n",
        "axs[0].grid(True)\n",
        "\n",
        "axs[1].plot(omega[:600],phase[:600])\n",
        "axs[1].set_ylim(-3, 0)\n",
        "axs[1].set_xlabel('rad/sek')\n",
        "axs[1].set_ylabel('fasi (rad)')\n",
        "axs[1].grid(True)\n",
        "\n",
        "fig.tight_layout()\n",
        "plt.show()"
      ]
    },
    {
      "cell_type": "markdown",
      "source": [
        "Hægt er að fá upplýsingar til að meta stöðugleika"
      ],
      "metadata": {
        "id": "VQWWx9DNal3V"
      },
      "id": "VQWWx9DNal3V"
    },
    {
      "cell_type": "code",
      "execution_count": null,
      "id": "6f0c3143",
      "metadata": {
        "id": "6f0c3143"
      },
      "outputs": [],
      "source": [
        "G_K = ct.series(G1) # Vel sem yfirfærslufall lykkjunnar (sjá kafla 17 í hefti)\n",
        "ct.bode(G_K, dB=True)\n",
        "gm, pm, wcg, wcp = ct.margin(G_K)\n",
        "print(\"Mögnunaröryggi: %4.2f\\n Fasaöryggi: %4.2f\\n omega_pi: %4.2f\\n omega_c: %4.2f\" % (gm,pm,wcg,wcp))"
      ]
    },
    {
      "cell_type": "markdown",
      "source": [
        "Dæmi um stöðugleikagreiningu á flóknara kerfi."
      ],
      "metadata": {
        "id": "s3pJHQgKJa9V"
      },
      "id": "s3pJHQgKJa9V"
    },
    {
      "cell_type": "code",
      "source": [
        "tau = 0.2\n",
        "G_C = 3\n",
        "G_P = ct.series(ct.tf([1],[1, 0]),ct.tf([1],[1, 1]))\n",
        "G_S = ct.tf([1],[tau, 1])\n",
        "G_K = ct.series(G_C, G_P, G_S) # Yfirfærslufall lykkjunnar (sjá kafla 17 í hefti)\n",
        "ct.bode(G_K, dB = True)\n",
        "gm, pm, wcg, wcp = ct.margin(G_K)\n",
        "print(\"Mögnunaröryggi: %4.2f\\n Fasaöryggi: %4.2f\\n omega_pi: %4.2f\\n omega_c: %4.2f\" % (gm,pm,wcg,wcp))\n"
      ],
      "metadata": {
        "id": "KHr7ghOqhyVM"
      },
      "id": "KHr7ghOqhyVM",
      "execution_count": null,
      "outputs": []
    },
    {
      "cell_type": "markdown",
      "source": [
        "Skoðum svörun kerfisins."
      ],
      "metadata": {
        "id": "4pa3-dA5JhKA"
      },
      "id": "4pa3-dA5JhKA"
    },
    {
      "cell_type": "code",
      "source": [
        "G_T = ct.feedback(ct.series(G_C,G_P),G_S)\n",
        "t,y = ct.step_response(G_T)\n",
        "plt.plot(t,y)\n",
        "plt.grid()\n",
        "plt.xlabel('sek')\n",
        "plt.ylabel('útslag')"
      ],
      "metadata": {
        "id": "pmsMQ1yKsvIb"
      },
      "id": "pmsMQ1yKsvIb",
      "execution_count": null,
      "outputs": []
    },
    {
      "cell_type": "markdown",
      "source": [
        "Bode rit af nokkrum einföldum einingum sem gott er að þekkja. Hægt að púsla saman til að búa til Bode rit af yfirfærsluföllum. Prófið endilega að breyta stuðlum (K og T) og skoða hvað gerist."
      ],
      "metadata": {
        "id": "8nQqXv84cz55"
      },
      "id": "8nQqXv84cz55"
    },
    {
      "cell_type": "code",
      "source": [
        "#K (fasti)\n",
        "K=1\n",
        "G=ct.tf([K],[1])\n",
        "ct.bode(G, dB=True)"
      ],
      "metadata": {
        "id": "Ion1gn8ldTHf"
      },
      "id": "Ion1gn8ldTHf",
      "execution_count": null,
      "outputs": []
    },
    {
      "cell_type": "code",
      "source": [
        "#1/Ts (tegrari)\n",
        "T=1\n",
        "G=ct.tf([1],[T,0])\n",
        "ct.bode(G, dB=True)"
      ],
      "metadata": {
        "id": "RHh_A7PEcRA0"
      },
      "id": "RHh_A7PEcRA0",
      "execution_count": null,
      "outputs": []
    },
    {
      "cell_type": "code",
      "source": [
        "# Ts (diffrari)\n",
        "# Ath -270 gráður eru +90 gráður\n",
        "T=1\n",
        "G=ct.tf([T,0],[1])\n",
        "ct.bode(G, dB=True)"
      ],
      "metadata": {
        "id": "Xp2yYj-heEvy"
      },
      "id": "Xp2yYj-heEvy",
      "execution_count": null,
      "outputs": []
    },
    {
      "cell_type": "code",
      "source": [
        "# Ts+1\n",
        "# Ath -270 gráður eru +90 gráður og -360 gráður eru 0 gráður\n",
        "T=1\n",
        "G=ct.tf([T,1],[1])\n",
        "ct.bode(G, dB=True)"
      ],
      "metadata": {
        "id": "5smxT0XXfIYV"
      },
      "id": "5smxT0XXfIYV",
      "execution_count": null,
      "outputs": []
    },
    {
      "cell_type": "code",
      "source": [
        "# 1/(Ts+1)\n",
        "T=1\n",
        "G=ct.tf([1],[T, 1])\n",
        "ct.bode(G, dB=True)"
      ],
      "metadata": {
        "id": "HHL8XqR5fwSk"
      },
      "id": "HHL8XqR5fwSk",
      "execution_count": null,
      "outputs": []
    }
  ],
  "metadata": {
    "kernelspec": {
      "display_name": "Python 3 (ipykernel)",
      "language": "python",
      "name": "python3"
    },
    "language_info": {
      "codemirror_mode": {
        "name": "ipython",
        "version": 3
      },
      "file_extension": ".py",
      "mimetype": "text/x-python",
      "name": "python",
      "nbconvert_exporter": "python",
      "pygments_lexer": "ipython3",
      "version": "3.9.7"
    },
    "colab": {
      "provenance": []
    }
  },
  "nbformat": 4,
  "nbformat_minor": 5
}