{
  "cells": [
    {
      "cell_type": "markdown",
      "id": "b9dba786",
      "metadata": {
        "id": "b9dba786"
      },
      "source": [
        "# IÐN303G Tæknileg kerfi - Sýnidæmi - Stýringar - P"
      ]
    },
    {
      "cell_type": "markdown",
      "id": "48ad3d5e",
      "metadata": {
        "id": "48ad3d5e"
      },
      "source": [
        "## Inngangur\n",
        "Markmiðið með þessu sýnidæmi er að kynnast hönnun P stýringa.\n",
        "\n",
        "Gefið er sjálfvirkt stýrikerfi sem má lýsa með eftirfarandi blokkriti (úr Skilaverkefni 3).\n",
        "\n",
        "<div>\n",
        "<img src=\"https://github.com/rsaemundsson/idn_303_TS_25/blob/main/s3_blokkrit.png?raw=true\" alt=\"Mynd vantar\", width=600>\n",
        "\n",
        "\n",
        "Til stendur að hanna stýringu sem gefur eins hraða svörun við breytingum í óskgildi og hægt er með fasaöryggi upp á a.m.k. 60 gráður og hefur skekkju jafnvægi sem er minni en 0,01 ef breytingin er einingaþrepafall.\n",
        "\n",
        "Yfirfærsluföll fyrir mismunandi einingar kerfisins eru eftirfarandi:\n",
        "\n",
        "$$ G_{Stýring}(s)=K_P $$\n",
        "\n",
        "$$ G_{Loki} (s)=\\frac{K_L}{\\tau_L s + 1} $$\n",
        "\n",
        "$$G_{Tankur}(s)=\\frac{K_T}{\\tau_Ts + 1}$$\n",
        "\n",
        "$$G_{Nemi}(s)=1$$\n",
        "\n",
        "  þar sem $K_L = 1/60$, $\\tau_L = 1$s, $K_T=2800$ og $\\tau_T=250s$."
      ]
    },
    {
      "cell_type": "code",
      "execution_count": null,
      "id": "7c342a3d",
      "metadata": {
        "id": "7c342a3d"
      },
      "outputs": [],
      "source": [
        "!pip install control"
      ]
    },
    {
      "cell_type": "code",
      "execution_count": null,
      "id": "76c37693",
      "metadata": {
        "id": "76c37693"
      },
      "outputs": [],
      "source": [
        "# Hlaða inn þeim forritasöfnum sem þarf að hlaða inn\n",
        "import numpy as np\n",
        "import control as ct\n",
        "import matplotlib.pyplot as plt\n",
        "\n",
        "# Stuðlar\n",
        "\n",
        "K_L = 1/60.0\n",
        "tau_L = 1.0\n",
        "K_T = 2800.0\n",
        "tau_T = 250.0\n",
        "\n",
        "# Hönnunarkröfur\n",
        "\n",
        "min_phase_margin = 60.0\n",
        "phase_margin_precision = 1\n",
        "max_steady_state_error = 0.01\n",
        "\n",
        "# Breyti K_P þar til ég fæ rétt fasaöryggi\n",
        "\n",
        "K_P = 1\n",
        "\n",
        "# Yfirfærsluföll\n",
        "\n",
        "G_Styring = K_P\n",
        "G_Loki = ct.tf(K_L,[tau_L, 1])\n",
        "G_Tankur=ct.tf(K_T,[tau_T, 1])\n",
        "G_Nemi = 1\n",
        "\n",
        "G_P = ct.series(G_Loki, G_Tankur)\n",
        "G_K = ct.series(G_Styring, G_P, G_Nemi)\n",
        "G_T = ct.feedback(ct.series(G_Styring,G_P), G_Nemi)\n",
        "\n",
        "# Greining á fasaöryggi\n",
        "\n",
        "gm, pm, wcg, wcp_init = ct.margin(G_K)\n",
        "\n",
        "t_s = 1\n",
        "r_delta = 1\n",
        "\n",
        "if (pm > min_phase_margin):\n",
        "  if (np.abs(pm - min_phase_margin)>phase_margin_precision):\n",
        "    print(\"Hönnun uppfyllir kröfur um fasaöryggi en svörun gæti verið hraðari\")\n",
        "  else:\n",
        "    print(\"Hönnun uppfyllir kröfur um fasaöryggi og svörun gæti ekki verið mikið hraðari\")\n",
        "else:\n",
        "  print(\"Hönnun uppfyllir EKKI kröfur um fasaöryggi\")\n",
        "\n",
        "s_info = ct.step_info(G_T)\n",
        "overshoot = s_info[\"Overshoot\"]\n",
        "\n",
        "t,y = ct.step_response(G_T)\n",
        "\n",
        "plt.figure(1)\n",
        "plt.plot(t_s * t,r_delta * y, label=f\"Fasaöryggi: {pm/100:.1%}, Yfirskot: {overshoot/100:.3%}\")\n",
        "plt.grid()\n",
        "plt.legend()\n",
        "plt.xlabel('sek')\n",
        "plt.ylabel('Vatnshæð')\n",
        "\n",
        "ct.bode(G_K, dB=True)"
      ]
    },
    {
      "cell_type": "code",
      "execution_count": null,
      "id": "5b808bee",
      "metadata": {
        "id": "5b808bee"
      },
      "outputs": [],
      "source": [
        "#Skoðum skekkju í jafnvægi\n",
        "\n",
        "G_E = ct.feedback(1,G_K)\n",
        "\n",
        "s_info = ct.step_info(G_T)\n",
        "error_ss = r_delta - s_info[\"SteadyStateValue\"]\n",
        "\n",
        "if (error_ss < max_steady_state_error):\n",
        "  print(\"Hönnun uppfyllir kröfur um skekkju í jafnvægi\")\n",
        "else:\n",
        "  print(\"Hönnun uppfyllir EKKI kröfur um skekkju í jafnvægi\")\n",
        "\n",
        "t,e = ct.step_response(G_E)\n",
        "plt.figure(2)\n",
        "plt.plot(t_s * t,r_delta * e,label=f\"Skekkja í jafnvægi: {error_ss:.4f}\")\n",
        "plt.grid()\n",
        "plt.legend()\n",
        "plt.xlabel('sek')\n",
        "plt.ylabel('Skekkja')\n"
      ]
    },
    {
      "cell_type": "code",
      "execution_count": null,
      "id": "63aa748d",
      "metadata": {
        "id": "63aa748d"
      },
      "outputs": [],
      "source": [
        "# Skoðum stýrimerki\n",
        "\n",
        "G_U = ct.feedback(G_Styring,ct.series(G_P,G_Nemi))\n",
        "\n",
        "t,u = ct.step_response(G_U)\n",
        "plt.figure(3)\n",
        "plt.plot(t_s * t,r_delta * u)\n",
        "plt.grid()\n",
        "plt.xlabel('sek')\n",
        "plt.ylabel('Stýrimerki')\n"
      ]
    },
    {
      "cell_type": "code",
      "execution_count": null,
      "id": "8bfc7dd8",
      "metadata": {
        "id": "8bfc7dd8"
      },
      "outputs": [],
      "source": []
    }
  ],
  "metadata": {
    "kernelspec": {
      "display_name": "Python 3 (ipykernel)",
      "language": "python",
      "name": "python3"
    },
    "language_info": {
      "codemirror_mode": {
        "name": "ipython",
        "version": 3
      },
      "file_extension": ".py",
      "mimetype": "text/x-python",
      "name": "python",
      "nbconvert_exporter": "python",
      "pygments_lexer": "ipython3",
      "version": "3.9.7"
    },
    "colab": {
      "provenance": []
    }
  },
  "nbformat": 4,
  "nbformat_minor": 5
}