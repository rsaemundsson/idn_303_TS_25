{
  "cells": [
    {
      "cell_type": "markdown",
      "id": "6e9351db",
      "metadata": {
        "id": "6e9351db"
      },
      "source": [
        "# IÐN303G Tæknileg kerfi - Skilaverkefni 1"
      ]
    },
    {
      "cell_type": "markdown",
      "id": "fa1d8b99",
      "metadata": {
        "id": "fa1d8b99"
      },
      "source": [
        "\n",
        "Markmiðið er að setja fram og herma einfalt líkan af sambandi innflæðis og vatnshæðar í tanki fyrir breytingar í kringum jafnvægispunkt.\n",
        "1. Leiðið út líkan sem lýsir sambandi innflæðis og vatnshæðar fyrir breytingar í kringum jafnvægispunkt. Gerið ráð fyrir að flatarmál botnflatar sé $A$ og að við botn tanksins sé úttak í formi loka sem hefur viðnámið $R$.\n",
        "2. Skrifið fall í Python sem tekur við upplýsingum um flatarmál botnflatar, viðnám loka, söfnunartíma hermunar og innflæði (frávik frá jafnvægispunkti) og skilar vatnshæð (frávik frá jafnvægispunkti). Innflæði og vatnshæð skulu vera jafnlangir vigrar.\n",
        "3. Skrifið kóða sem notar fallið úr 2. til að herma breytingar í vatnshæð í $600 s$ með söfnunartíma $0.1 s$ í tanki þar sem $A=0.09 m^2$ og $R=1*10^7 kg/(sm^4)$ þegar:\n",
        "<ol type=a>\n",
        "<li>Innflæði hækkar um $5*10^{-9} m^3/s$ í $t_0$.</li>\n",
        "<li>Innflæði breytist eins og sinusbylgja með útslag $5*10^{-9} m^3/s$ og sveiflutíma $120 s$.</li>\n",
        "</ol>\n",
        "\n",
        "4.\tSkrifið kóða sem sýnir niðurstöður hermunarinnar myndrænt. Teiknið innflæði og vatnshæð á sama grafi fyrir bæði a og b.\n",
        "5.\tSetjið fram niðurstöður í colab skjali (eða jupiter notebook) þar sem þið blandið saman texta, jöfnum og kóða. Skjalið skal hafa eftirfarandi hluta:\n",
        "•\tInngangur - lýsing á markmiðum verkefnisins.\n",
        "•\tFræðilegar undirstöður - útleiðsla á líkani.\n",
        "•\tAðferð - lýsing á þeirri aðferð sem notuð var við hermun.\n",
        "•\tNiðurstöður - niðurstöður hermunar og túlkun þeirra.\n",
        "•\tÁlyktanir - ályktanir um hvað megi læra af niðurstöðunum.\n"
      ]
    }
  ],
  "metadata": {
    "kernelspec": {
      "display_name": "Python 3 (ipykernel)",
      "language": "python",
      "name": "python3"
    },
    "language_info": {
      "codemirror_mode": {
        "name": "ipython",
        "version": 3
      },
      "file_extension": ".py",
      "mimetype": "text/x-python",
      "name": "python",
      "nbconvert_exporter": "python",
      "pygments_lexer": "ipython3",
      "version": "3.9.7"
    },
    "colab": {
      "provenance": []
    }
  },
  "nbformat": 4,
  "nbformat_minor": 5
}