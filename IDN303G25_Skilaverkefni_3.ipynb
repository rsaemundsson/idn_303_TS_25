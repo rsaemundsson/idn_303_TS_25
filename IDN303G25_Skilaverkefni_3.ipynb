{
  "cells": [
    {
      "cell_type": "markdown",
      "id": "6e9351db",
      "metadata": {
        "id": "6e9351db"
      },
      "source": [
        "# IÐN303G Tæknileg kerfi - Skilaverkefni 3"
      ]
    },
    {
      "cell_type": "markdown",
      "id": "fa1d8b99",
      "metadata": {
        "id": "fa1d8b99"
      },
      "source": [
        "Markmiðið er að kanna kosti og galla þess að nota einfalda P stýringu til að stýra hæð í vatnstanki. Við viljum að hæðin fylgi óskgildinu þrátt fyrir þrepabreytingar í hæð vegna truflana í innflæði eða útflæði. Auk þess viljum að kerfið nái óskgildinu sem fyrst eftir að truflun hefur átt sér stað en að yfirskot sé ekki meira en 10%.\n",
        "\n",
        "Í upphafi er innflæði jafnt og útflæði og vatnshæðin í jafnvægi (jafnvægispunktur). Vatnshæð er mæld með nema og stýring (í tölvu) bregst við breytingum með að þrengja eða víkka loka og breyta þar með innflæðinu. Truflun í vatnshæð getur átt sér stað vegna utanaðkomandi breytinga í innflæði eða útflæði og þá er ætlast til að stýringin bregðist við og sjái til þess að vatnshæðin haldist sú sama.\n",
        "\n",
        "Á Mynd 1 má sjá blokkrit fyrir kerfið. $R(s)$ er óskgildi vatnshæðarinnar, $E(s)$ er mismunur á óskgildi og mældu gildi, $U(s)$ er opnun lokans, $Q(s)$ er innflæði, $T_1(s)$ er truflun á innflæði, $T_2(s)$ er truflun á útflæði og H(s) er vatnshæðin. Athugið að í öllum tilfellum er um að ræða breytingar frá jafnvægispunkti.\n",
        "\n",
        "<div>\n",
        "<img src=\"https://github.com/rsaemundsson/idn_303_TS_25/blob/main/s3_blokkrit.png?raw=true\" alt=\"Mynd vantar\" width=600/>\n",
        "\n",
        "Mynd 1. Blokkrit af kerfi til að stýra vatnshæð í tanki.\n",
        "\n",
        "\n",
        "Yfirfærsluföll fyrir mismunandi einingar kerfisins eru eftirfarandi:\n",
        "\n",
        "<center>$G_{Stýring}(s)=K_P$</center>\n",
        "<br>\n",
        "<center>$G_{Loki} (s)=\\frac{K_L}{\\tau_L s + 1}$</center>\n",
        "<br>\n",
        "<center>$G_{Tankur}(s)=\\frac{K_T}{\\tau_Ts + 1}$</center>\n",
        "<br>\n",
        "<center>$G_{Nemi}(s)=1$</center>\n",
        "\n",
        "Við útreikninga má gera ráð fyrir að $K_L = 1/60$, $\\tau_L = 1$s, $K_T=2800$ og $\\tau_T=250s$.\n",
        "\n",
        "1. Finnið yfirfærsluföll milli truflana og vatnshæðar.\n",
        "2. Notið yfirfærsluföllin úr 1) til að bera saman tímasvörun kerfisins (breytingar í vatnshæð) við þrepabreytingar í hvorri truflun fyrir sig fyrir mismunandi gildi á $K_P$.\n",
        "3. Gerið grein fyrir hvernig gildið á $K_P$ hefur áhrif á hversu vel kerfið uppfyllir kröfurnar sem settar voru fram í upphafi um hvernig vatnshæðin fylgi óskgildinu þrátt fyrir truflanir. Veljið gildi á $K_P$ og rökstyðjið svarið.\n",
        "\n",
        "4.\tSetjið fram niðurstöður í colab skjali (eða jupiter notebook) þar sem þið blandið saman texta, jöfnum og kóða. Skjalið skal hafa eftirfarandi hluta:\n",
        "<ul>\n",
        "<li>Inngangur - lýsing á markmiðum verkefnisins.</li>\n",
        "<li>Fræðilegar undirstöður - þær fræðilegu undirstöður sem þið þurfið á að halda til að leysa verkefnið, þ.m.t útleiðsla á yfirfærslufalli milli truflunar og vatnshæðar.</li>\n",
        "<li>Aðferð - lýsing á því hvernig samanburður og greining voru framkvæmdar.</li>\n",
        "<li>Niðurstöður - niðurstöður samanburðar og greiningar, þ.m.t áhrif mismunandi gilda $K_P$ á hversu vel kröfur eru uppfylltar, val á $K_P$ og rökstuðningur fyrir valinu.<li\\>\n",
        "<li>Ályktanir - ályktanir um hvað megi læra af niðurstöðunum um kosti og galla P stýringa.</li>\n",
        "</ul>"
      ]
    }
  ],
  "metadata": {
    "kernelspec": {
      "display_name": "Python 3 (ipykernel)",
      "language": "python",
      "name": "python3"
    },
    "language_info": {
      "codemirror_mode": {
        "name": "ipython",
        "version": 3
      },
      "file_extension": ".py",
      "mimetype": "text/x-python",
      "name": "python",
      "nbconvert_exporter": "python",
      "pygments_lexer": "ipython3",
      "version": "3.9.7"
    },
    "colab": {
      "provenance": []
    }
  },
  "nbformat": 4,
  "nbformat_minor": 5
}