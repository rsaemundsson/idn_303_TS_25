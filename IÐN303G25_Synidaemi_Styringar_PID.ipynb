{
  "cells": [
    {
      "cell_type": "markdown",
      "source": [
        "# IÐN303G Tæknileg kerfi - Sýnidæmi - Stýringar - PID"
      ],
      "metadata": {
        "id": "0lSeM_wgTUsH"
      },
      "id": "0lSeM_wgTUsH"
    },
    {
      "cell_type": "markdown",
      "id": "48ad3d5e",
      "metadata": {
        "id": "48ad3d5e"
      },
      "source": [
        "## Inngangur\n",
        "Markmiðið með þessu sýnidæmi er að kynnast hönnun PID stýringa.\n",
        "\n",
        "Gefið er sjálfvirkt stýrikerfi sem má lýsa með eftirfarandi blokkriti.\n",
        "\n",
        "<div>\n",
        "<img src=\"https://github.com/rsaemundsson/idn_303_TS_25/blob/main/automatic_control_system_pid.png?raw=true\" alt=\"Mynd vantar\" width=600>\n",
        "\n",
        "Til stendur að velja stýringu þannig að fasaöryggið sé $\\frac{\\pi}{3}$.\n",
        "\n",
        "1. Veljið gildi á $K$ og $T_D$ fyrir PD stýringu sem uppfyllir kröfur um fasaöryggi.  \n",
        "2. Veljið gildi á $K$, $T_D$, $T_I$ og $T_F$ fyrir PID stýringu sem uppfyllir kröfur um fasaöryggi.\n",
        "3. Berið saman stýringarnar með því að bera saman tíðnisvörun lykkjunnar, tímasvörun heildarkerfisins og skekkju í jafnvægi eftir breytingar í óskgildi og þrepatruflanir í kerfinu sem á að stýra ($G_p$). Hvað myndi réttlæta að velja PID stýringuna fram yfir PD stýringuna? Væri ástæða til að velja PI stýringu í stað PID stýringarinnar?"
      ]
    },
    {
      "cell_type": "code",
      "source": [
        "!pip install control"
      ],
      "metadata": {
        "id": "Jp28MbU4TFEt"
      },
      "id": "Jp28MbU4TFEt",
      "execution_count": null,
      "outputs": []
    },
    {
      "cell_type": "code",
      "execution_count": null,
      "id": "76c37693",
      "metadata": {
        "id": "76c37693"
      },
      "outputs": [],
      "source": [
        "# Hlaða inn þeim forritasöfnum sem þarf að hlaða inn\n",
        "import numpy as np\n",
        "import control as ct\n",
        "import matplotlib.pyplot as plt\n",
        "\n",
        "# Fasaöryggi í gráðum\n",
        "\n",
        "phase_margin_criteria = 60\n",
        "phase_margin_PI = 60 + 0.06 * 180\n",
        "\n",
        "# Yfirfærsluföll\n",
        "\n",
        "G_p=ct.tf(2,[5, 1, 0])\n",
        "G_a=ct.tf(1,[1,2])\n",
        "\n",
        "G_K=ct.series(G_a,G_p)\n",
        "\n",
        "# Stöðugleikagreining\n",
        "\n",
        "ct.bode(G_K, dB=True)\n",
        "\n",
        "gm, pm, wcg_init, wcp = ct.margin(G_K)\n",
        "print(\"Mögnunaröryggi: \",gm)\n",
        "print(\"Fasaöryggi: \",pm)\n",
        "print(\"w_pi: \",wcg_init)\n",
        "print(\"w_c: \",wcp)"
      ]
    },
    {
      "cell_type": "code",
      "execution_count": null,
      "id": "5b808bee",
      "metadata": {
        "id": "5b808bee"
      },
      "outputs": [],
      "source": [
        "#PD stýring\n",
        "T_D = 1.0 / wcg_init\n",
        "K = 0.2\n",
        "G_PD = K * ct.tf([T_D, 1],[1])\n",
        "#print(G_PD)\n",
        "\n",
        "G_K_PD=ct.series(G_PD, G_a, G_p)\n",
        "#print(G_K_PD)\n",
        "\n",
        "# Stöðugleikagreining - Breyti K þar til að kröfur um fasaöryggi séu uppfylltar\n",
        "\n",
        "ct.bode(G_K_PD, dB=True)\n",
        "\n",
        "gm, pm, wcg, wcp_PD = ct.margin(G_K_PD)\n",
        "print(\"Mögnunaröryggi: \", gm)\n",
        "print(\"Fasaöryggi: \",pm)\n",
        "print(\"w_pi: \",wcg)\n",
        "print(\"w_c: \",wcp_PD)"
      ]
    },
    {
      "cell_type": "code",
      "execution_count": null,
      "id": "2d53d63b",
      "metadata": {
        "id": "2d53d63b"
      },
      "outputs": [],
      "source": [
        "#PID stýring\n",
        "T_D = 1.0 / wcg_init\n",
        "T_F = 0.3 * T_D\n",
        "K = 0.083\n",
        "\n",
        "G_PID_PD = ct.tf([T_D, 1],[T_F, 1])\n",
        "#print(G_PID_PD)\n",
        "\n",
        "G_K_1 = K * ct.series(G_PID_PD, G_a, G_p)\n",
        "#print(G_K_1)\n",
        "\n",
        "# Stöðugleikagreining - Breyti K þar til fasaöryggi (phase_margin_PI) passar\n",
        "plt.figure()\n",
        "ct.bode(G_K_1, dB=True)\n",
        "\n",
        "gm, pm, wcg, wcp_PI = ct.margin(G_K_1)\n",
        "print(\"Markmið um fasaöryggi PI hlutans: \", phase_margin_PI)\n",
        "print(\"Mögnunaröryggi: \", gm)\n",
        "print(\"Fasaöryggi (PI): \",pm)\n",
        "print(\"w_pi: \",wcg)\n",
        "print(\"w_c: \",wcp_PI)\n",
        "\n",
        "T_I = 1.0 / (0.2 * wcp_PI)\n",
        "G_PID_PI = K * ct.tf([T_I, 1],[T_I, 0])\n",
        "#print(G_PID_PI)\n",
        "G_K_PID = ct.series(G_PID_PI, G_PID_PD, G_a, G_p)\n",
        "#print(G_K_PID)\n",
        "\n",
        "# Stöðugleikagreining - Geng úr skugga um að fasaöryggi sé rétt\n",
        "plt.figure()\n",
        "ct.bode(G_K_PID, dB=True)\n",
        "\n",
        "gm, pm, wcg, wcp_PID = ct.margin(G_K_PID)\n",
        "print(\"Heildin\")\n",
        "print(\"Mögnunaröryggi: \",gm)\n",
        "print(\"Fasaöryggi: \",pm)\n",
        "print(\"w_pi: \",wcg)\n",
        "print(\"w_c: \",wcp_PID)"
      ]
    },
    {
      "cell_type": "code",
      "execution_count": null,
      "id": "63aa748d",
      "metadata": {
        "id": "63aa748d"
      },
      "outputs": [],
      "source": [
        "#Samanburður\n",
        "\n",
        "# Hraði\n",
        "G_T_PD = ct.feedback(G_K_PD,1)\n",
        "G_T_PID = ct.feedback(G_K_PID,1)\n",
        "\n",
        "response_time = 200\n",
        "\n",
        "[t_PD, y_PD] = ct.step_response(G_T_PD, T=response_time)\n",
        "plt.plot(t_PD, y_PD, label=\"PD stýring\")\n",
        "\n",
        "[t_PID, y_PID] = ct.step_response(G_T_PID, T=response_time)\n",
        "plt.plot(t_PID, y_PID, label=\"PID stýring\")\n",
        "plt.ylabel(\"y(t)\")\n",
        "plt.xlabel(\"t (sek)\")\n",
        "plt.legend()\n",
        "plt.grid()\n",
        "plt.title(\"Svörun y(t) við einingaþrepabreytingu í r(t)\")\n",
        "\n",
        "t_r_PD = 1.4 / wcp_PD\n",
        "t_r_PID = 1.4 / wcp_PID\n",
        "print(\"Ristími PD: %0.2f s\" % (t_r_PD))\n",
        "print(\"Ristími PID: %0.2f s\" % (t_r_PID))\n",
        "\n",
        "# Skekkja í jafnvægi\n",
        "\n",
        "# Breyting í óskgildi\n",
        "\n",
        "G_RE_PD = ct.feedback(1,G_K_PD)\n",
        "G_RE_PID = ct.feedback(1,G_K_PID)\n",
        "\n",
        "plt.figure()\n",
        "[t_PD, y_PD] = ct.step_response(G_RE_PD, T=response_time)\n",
        "plt.plot(t_PD, y_PD, label=\"PD stýring\")\n",
        "\n",
        "[t_PID, y_PID] = ct.step_response(G_RE_PID, T=response_time)\n",
        "plt.plot(t_PID, y_PID, label=\"PID stýring\")\n",
        "plt.ylabel(\"e(t)\")\n",
        "plt.xlabel(\"t (sek)\")\n",
        "plt.legend()\n",
        "plt.grid()\n",
        "plt.title(\"Svörun e(t) við einingaþrepabreytingu í r(t)\")\n",
        "\n",
        "#Þrepatruflun í V\n",
        "\n",
        "G_VE_PD = ct.feedback(-G_p,-ct.series(G_PD,G_a))\n",
        "G_VE_PID = ct.feedback(-G_p,-ct.series(G_PID_PI, G_PID_PD, G_a))\n",
        "\n",
        "#print(G_VE_PID)\n",
        "\n",
        "plt.figure()\n",
        "[t_PD, y_PD] = ct.step_response(G_VE_PD, T=response_time)\n",
        "plt.plot(t_PD, y_PD, label=\"PD stýring\")\n",
        "\n",
        "[t_PID, y_PID] = ct.step_response(G_VE_PID, T=response_time)\n",
        "plt.plot(t_PID, y_PID, label=\"PID stýring\")\n",
        "plt.ylabel(\"e(t)\")\n",
        "plt.xlabel(\"t (sek)\")\n",
        "plt.legend()\n",
        "plt.grid()\n",
        "plt.title(\"Svörun e(t) við einingaþrepabreytingu í v(t) (truflun)\")\n",
        "\n",
        "#Tíðnisvörun lykkjunar\n",
        "plt.figure()\n",
        "ct.bode(G_K_PD, dB=True, label=\"PI stýring\")\n",
        "ct.bode(G_K_PID, dB=True, label=\"PID stýring\")"
      ]
    },
    {
      "cell_type": "code",
      "execution_count": null,
      "id": "3909a2d3",
      "metadata": {
        "id": "3909a2d3"
      },
      "outputs": [],
      "source": []
    }
  ],
  "metadata": {
    "kernelspec": {
      "display_name": "Python 3 (ipykernel)",
      "language": "python",
      "name": "python3"
    },
    "language_info": {
      "codemirror_mode": {
        "name": "ipython",
        "version": 3
      },
      "file_extension": ".py",
      "mimetype": "text/x-python",
      "name": "python",
      "nbconvert_exporter": "python",
      "pygments_lexer": "ipython3",
      "version": "3.9.7"
    },
    "colab": {
      "provenance": []
    }
  },
  "nbformat": 4,
  "nbformat_minor": 5
}