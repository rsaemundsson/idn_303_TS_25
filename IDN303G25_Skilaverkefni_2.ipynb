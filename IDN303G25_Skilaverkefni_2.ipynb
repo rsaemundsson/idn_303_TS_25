{
  "cells": [
    {
      "cell_type": "markdown",
      "id": "6e9351db",
      "metadata": {
        "id": "6e9351db"
      },
      "source": [
        "# IÐN303G Tæknileg kerfi - Skilaverkefni 2"
      ]
    },
    {
      "cell_type": "markdown",
      "id": "fa1d8b99",
      "metadata": {
        "id": "fa1d8b99"
      },
      "source": [
        "Markmiðið er að með aðstoð mælinga útbúa líkan fyrir raunverulegan vatnstank og bera saman við fræðilegt líkan. Til að leysa verkefnið þarf að nota tilraunaaðstöðu sem er í VR-III. Bóka þarf tíma í tilraunaaðstöðuna í Google skjali sem er á Canvas.\n",
        "\n",
        "<ol type=\"1\">\n",
        "<li>Framkvæmið mælingar í VR-III. Nánari verklýsing er á staðnum. Gangið í skugga um að þið hafið eftirfarandi gögn eftir mælingarnar:\n",
        "<ol type=\"a\">\n",
        "<li>Flatarmál botnflatar tanksins.</li>\n",
        "<li>Innflæði og hæð vatnsborðs í jafnvægi (fyrri liður í verklýsingu).</li>\n",
        "<li>Breyting á innflæði og tímaröð mælinga af hæð vatnsborðs frá því að innflæði var breytt og þar til hæð vatnsborðs hefur náð nýju jafnvægi (seinni liður í verklýsingu).</li>\n",
        "</ol>\n",
        "\n",
        "<li>Reiknið út viðnám lokans miðað við mælingu á hæð vatnsborðs í jafnvægipunkti (1b).\n",
        "\n",
        "<li>Finnið líkan á formi yfirfærslufalls fyrir samband á milli innflæðis og vatnshæðar í kringum jafnvægispunkt út frá mælingum á breytingum á vatnshæð í kjölfar breytinga á innflæði (1c).\n",
        "\n",
        "<li>Berið saman stuðla fræðilega líkansins úr Skilaverkefni 1 (sem notar gildin á viðnámi lokans sem reiknað var út í lið 2 og botnflatarmál tanksins og er á formi yfirfærslufalls) við stuðla líkansins sem fengið var með mælingum í lið 3.\n",
        "\n",
        "<li>Berið svörun beggja líkana saman við mælingar á myndrænan hátt (allt í sama grafi).\n",
        "<li>Gerið tölulegan samanburð á fráviki beggja líkana frá mældum gildum með því að reikna kvaðratrót af summu skekkjunnar í öðru veldi (e. root mean squared error).\n",
        "<li>Setjið fram niðurstöður í colab skjali (eða jupiter notebook) þar sem þið blandið saman texta, jöfnum og kóða. Skjalið skal hafa eftirfarandi hluta:\n",
        "<ul>\n",
        "<li>Inngangur - lýsing á markmiðum verkefnisins.</li>\n",
        "<li>Fræðilegar undirstöður - þær fræðilegu undirstöður sem þið þurfið á að halda til að leysa verkefnið.</li>\n",
        "<li>Aðferð - lýsing á því hvernig mælingar og greining niðurstaðna voru framkvæmdar, þ.m.t. samanburður á líkönum.</li>\n",
        "<li>Niðurstöður - niðurstöður mælinga og útreikninga ásamt túlkun og samanburði.<li\\>\n",
        "<li>Ályktanir - ályktanir um hvað megi læra af niðurstöðunum.</li>\n",
        "</ul>\n",
        "</ol>"
      ]
    }
  ],
  "metadata": {
    "kernelspec": {
      "display_name": "Python 3 (ipykernel)",
      "language": "python",
      "name": "python3"
    },
    "language_info": {
      "codemirror_mode": {
        "name": "ipython",
        "version": 3
      },
      "file_extension": ".py",
      "mimetype": "text/x-python",
      "name": "python",
      "nbconvert_exporter": "python",
      "pygments_lexer": "ipython3",
      "version": "3.9.7"
    },
    "colab": {
      "provenance": []
    }
  },
  "nbformat": 4,
  "nbformat_minor": 5
}