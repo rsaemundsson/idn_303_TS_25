{
  "cells": [
    {
      "cell_type": "markdown",
      "id": "b9dba786",
      "metadata": {
        "id": "b9dba786"
      },
      "source": [
        "# IÐN303G Tæknileg kerfi - Sýnidæmi - Stýringar - PI"
      ]
    },
    {
      "cell_type": "markdown",
      "id": "48ad3d5e",
      "metadata": {
        "id": "48ad3d5e"
      },
      "source": [
        "## Inngangur\n",
        "Markmiðið með þessu sýnidæmi er að kynnast hönnun PI stýringa.\n",
        "\n",
        "Gefið er sjálfvirkt stýrikerfi sem má lýsa með eftirfarandi blokkriti.\n",
        "\n",
        "<div>\n",
        "<img src=\"https://github.com/rsaemundsson/idn_303_TS_25/blob/main/automatic_control_system_pi.png?raw=true\" alt=\"Mynd vantar\", width=600>\n",
        "\n",
        "\n",
        "Til stendur að hanna PI stýringu sem tryggir að engin skekkja sé í jafnvægi, fasaöryggi sé a.m.k. 60 gráður og stýrimerki sé ekki stærra en 0.5 þegar óskgildi breytist um 0.5."
      ]
    },
    {
      "cell_type": "code",
      "execution_count": null,
      "id": "7c342a3d",
      "metadata": {
        "id": "7c342a3d"
      },
      "outputs": [],
      "source": [
        "!pip install control"
      ]
    },
    {
      "cell_type": "code",
      "execution_count": null,
      "id": "76c37693",
      "metadata": {
        "id": "76c37693"
      },
      "outputs": [],
      "source": [
        "# Hlaða inn þeim forritasöfnum sem þarf að hlaða inn\n",
        "import numpy as np\n",
        "import control as ct\n",
        "import matplotlib.pyplot as plt\n",
        "\n",
        "# Fasaöryggi í gráðum\n",
        "\n",
        "phase_margin_criteria = 60\n",
        "phase_margin_PI = 60 + 0.06 * 180\n",
        "\n",
        "# Yfirfærslufall\n",
        "\n",
        "G_P=ct.tf(3,[5, 6, 1])\n",
        "\n",
        "\n",
        "# Stöðugleikagreining\n",
        "# Vel K sem gefur lágmarks fasaöryggi\n",
        "K = 1.4\n",
        "\n",
        "G_K = ct.series(K, G_P)\n",
        "print(G_K)\n",
        "\n",
        "ct.bode(G_K, dB=True)\n",
        "\n",
        "gm, pm, wcg, wcp_init = ct.margin(G_K)\n",
        "print(\"Lágmarks fasaöryggi m.t.t. PI stýringar\", phase_margin_PI)\n",
        "print(\"Mögnunaröryggi: \",gm)\n",
        "print(\"Fasaöryggi: \",pm)\n",
        "print(\"w_pi: \",wcg)\n",
        "print(\"w_c: \",wcp_init)"
      ]
    },
    {
      "cell_type": "code",
      "execution_count": null,
      "id": "5b808bee",
      "metadata": {
        "id": "5b808bee"
      },
      "outputs": [],
      "source": [
        "#Vel gildi á T_I\n",
        "T_I = 1.0 / (0.2 * wcp_init)\n",
        "\n",
        "G_PI = ct.tf([K * T_I, K],[T_I, 0])\n",
        "\n",
        "print(G_PI)\n",
        "\n",
        "# Stöðugleikagreining - Staðfesti að fasaöryggi sé uppfyllt\n",
        "\n",
        "G_K=ct.series(G_PI, G_P)\n",
        "print(G_K)\n",
        "\n",
        "ct.bode(G_K, dB=True)\n",
        "\n",
        "gm, pm, wcg, wcp_final = ct.margin(G_K)\n",
        "print(\"Mögnunaröryggi: \", gm)\n",
        "print(\"Fasaöryggi: \",pm)\n",
        "print(\"w_pi: \",wcg)\n",
        "print(\"w_c: \",wcp_final)"
      ]
    },
    {
      "cell_type": "code",
      "execution_count": null,
      "id": "63aa748d",
      "metadata": {
        "id": "63aa748d"
      },
      "outputs": [],
      "source": [
        "#Greining - þrepabreyting í R upp á 0.5, söfnunartími 1 sek\n",
        "\n",
        "r_delta = 0.5\n",
        "t_delta = 1\n",
        "\n",
        "# Jafnvægi úttaks\n",
        "\n",
        "G_T = ct.feedback(ct.series(G_PI, G_P), 1)\n",
        "\n",
        "t,y = ct.step_response(G_T)\n",
        "plt.figure(1)\n",
        "plt.plot(t_delta * t,r_delta * y)\n",
        "plt.grid()\n",
        "plt.xlabel('sek')\n",
        "plt.ylabel('y')\n",
        "\n",
        "# Skekkja í jafnvægi (eftir þrepabreyingu í R)\n",
        "\n",
        "G_E = ct.feedback(1,ct.series(G_PI,G_P))\n",
        "\n",
        "t,e = ct.step_response(G_E)\n",
        "plt.figure(2)\n",
        "plt.plot(t_delta * t,r_delta * e)\n",
        "plt.grid()\n",
        "plt.xlabel('sek')\n",
        "plt.ylabel('e')\n",
        "\n",
        "# Stýrimerki (eftir þrepabreytingu í R)\n",
        "\n",
        "G_U = ct.feedback(G_PI,G_P)\n",
        "\n",
        "t,u = ct.step_response(G_U)\n",
        "plt.figure(3)\n",
        "plt.plot(t_delta * t,r_delta * u)\n",
        "plt.grid()\n",
        "plt.xlabel('sek')\n",
        "plt.ylabel('u')\n"
      ]
    },
    {
      "cell_type": "code",
      "execution_count": null,
      "id": "3909a2d3",
      "metadata": {
        "id": "3909a2d3"
      },
      "outputs": [],
      "source": [
        "# Sé að stýrimerki er of hátt. Vel K þannig að stýrimerki sé innan marka. Veit að kerfið er stöðugra eftir það.\n",
        "# Uppfæri T_I miðað við breytt wcp_init og fer aftur í gegnum greiningu (næsta sella).\n",
        "# Sýni stöðugleikagreiningu til fróðleiks.\n",
        "K = 0.9\n",
        "\n",
        "G_K = ct.series(K, G_P)\n",
        "\n",
        "ct.bode(G_K, dB=True)\n",
        "\n",
        "gm, pm, wcg, wcp_init = ct.margin(G_K)\n",
        "\n",
        "T_I = 1.0 / (0.2 * wcp_init)\n",
        "\n",
        "G_PI = ct.tf([K * T_I, K],[T_I, 0])\n",
        "\n",
        "# Skoða fasaöryggið.\n",
        "\n",
        "G_K=ct.series(G_PI, G_P)\n",
        "\n",
        "ct.bode(G_K, dB=True)\n",
        "\n",
        "gm, pm, wcg, wcp_final = ct.margin(G_K)\n",
        "print(\"Mögnunaröryggi: \", gm)\n",
        "print(\"Fasaöryggi: \",pm)\n",
        "print(\"w_pi: \",wcg)\n",
        "print(\"w_c: \",wcp_final)\n"
      ]
    },
    {
      "cell_type": "code",
      "execution_count": null,
      "id": "c24cc810",
      "metadata": {
        "id": "c24cc810",
        "collapsed": true
      },
      "outputs": [],
      "source": [
        "# Jafnvægi úttaks\n",
        "\n",
        "G_T = ct.feedback(ct.series(G_PI, G_P), 1)\n",
        "\n",
        "t,y = ct.step_response(G_T)\n",
        "plt.figure(1)\n",
        "plt.plot(t_delta * t,r_delta * y)\n",
        "plt.grid()\n",
        "plt.xlabel('sek')\n",
        "plt.ylabel('y')\n",
        "\n",
        "# Skekkja í jafnvægi (eftir þrepabreyingu í R)\n",
        "\n",
        "G_E = ct.feedback(1,ct.series(G_PI,G_P))\n",
        "\n",
        "t,e = ct.step_response(G_E)\n",
        "plt.figure(2)\n",
        "plt.plot(t_delta * t,r_delta * e)\n",
        "plt.grid()\n",
        "plt.xlabel('sek')\n",
        "plt.ylabel('e')\n",
        "\n",
        "# Stýrimerki (eftir þrepabreytingu í R)\n",
        "\n",
        "G_U = ct.feedback(G_PI,G_P)\n",
        "\n",
        "t,u = ct.step_response(G_U)\n",
        "plt.figure(3)\n",
        "plt.plot(t_delta * t,r_delta * u)\n",
        "plt.grid()\n",
        "plt.xlabel('sek')\n",
        "plt.ylabel('u')"
      ]
    },
    {
      "cell_type": "code",
      "execution_count": null,
      "id": "8bfc7dd8",
      "metadata": {
        "id": "8bfc7dd8"
      },
      "outputs": [],
      "source": []
    }
  ],
  "metadata": {
    "kernelspec": {
      "display_name": "Python 3 (ipykernel)",
      "language": "python",
      "name": "python3"
    },
    "language_info": {
      "codemirror_mode": {
        "name": "ipython",
        "version": 3
      },
      "file_extension": ".py",
      "mimetype": "text/x-python",
      "name": "python",
      "nbconvert_exporter": "python",
      "pygments_lexer": "ipython3",
      "version": "3.9.7"
    },
    "colab": {
      "provenance": []
    }
  },
  "nbformat": 4,
  "nbformat_minor": 5
}